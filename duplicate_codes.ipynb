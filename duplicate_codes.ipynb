{
 "cells": [
  {
   "cell_type": "code",
   "execution_count": 1,
   "metadata": {
    "collapsed": true
   },
   "outputs": [],
   "source": [
    "import csv"
   ]
  },
  {
   "cell_type": "code",
   "execution_count": 2,
   "metadata": {
    "collapsed": false
   },
   "outputs": [
    {
     "name": "stdout",
     "output_type": "stream",
     "text": [
      "NG-OCP-PL-WrAlh2m5:\n",
      "['iit005450', 'iit006696']\n",
      "OCP-TR-3QeJ2miP:\n",
      "['iit004116', 'iit004128']\n",
      "OCP-NG-otrvZ9lT:\n",
      "['iit004638', 'iit004729']\n",
      "OCP-NG-Tp2VW9ws:\n",
      "['iit004767', 'iit004779']\n",
      "NG-OCP-KD-NWTk3bQC:\n",
      "['iit006195', 'iit007176']\n",
      "NG-ODK-PL-0zMCRplM:\n",
      "['iit006684', 'iit007025']\n",
      "NG-OCP-KD-fQgxBzMx:\n",
      "['iit006979', 'iit007515']\n",
      "NG-ODK-PL-gOBpuoJR:\n",
      "['iit006607', 'iit007188']\n",
      "NG-OCP-KD-MNf6R78u:\n",
      "['iit006384', 'iit007192']\n",
      "NG-OCP-KD-SFD7nYFd:\n",
      "['iit004418', 'iit007221']\n",
      "NG-OCP-PL-N6EPevY2:\n",
      "['iit005407', 'iit007189']\n",
      "NG-OCP-NG-HZgsJucc:\n",
      "['iit006677', 'iit006759']\n",
      "NG-OCP-KD-YwWeawhW:\n",
      "['iit004408', 'iit007204']\n",
      "OCP-PL-meJZrXt9:\n",
      "['iit004655', 'iit005132']\n",
      "NG-OCP-KD-fAAnBddU:\n",
      "['iit006688', 'iit007183']\n",
      "NG-OCP-KD-85u5dT7P:\n",
      "['iit006179', 'iit007175']\n",
      "NG-OCP-KD-mcAEbWqq:\n",
      "['iit006176', 'iit007180']\n",
      "NG-OCP-PL-3XBQDeL6:\n",
      "['iit005355', 'iit006700']\n",
      "NG-OCP-KD-2mhAzKFY:\n",
      "['iit006983', 'iit007538']\n",
      "NG-OCP-PL-fRRQtelY:\n",
      "['iit005282', 'iit007200']\n",
      "OCP-PL-S4T18EGW:\n",
      "['iit004705', 'iit004751']\n",
      "NG-OCP-KD-XvwWiipK:\n",
      "['iit004410', 'iit007218']\n",
      "NG-OCP-BA-KQy9mHiG:\n",
      "['iit003927', 'iit007587']\n",
      "NG-ODK-PL-pxS8kWwo:\n",
      "['iit006094', 'iit006682']\n"
     ]
    }
   ],
   "source": [
    "barcodedict = {}\n",
    "with open('OCP topsoil Pred.csv', \"U\") as csvfile:\n",
    "    reader = csv.DictReader(csvfile)\n",
    "    for row in reader:\n",
    "        if row['Barcode']!='':\n",
    "            if row['Barcode'] not in barcodedict:\n",
    "                barcodedict[row['Barcode']] = [row['SSN']]\n",
    "            else:\n",
    "                barcodedict[row['Barcode']].append(row['SSN'])\n",
    "                \n",
    "\n",
    "for key in barcodedict:\n",
    "    if len(barcodedict[key])>1:\n",
    "        print(key+\":\")\n",
    "        print(map(lambda x: x, barcodedict[key]))"
   ]
  },
  {
   "cell_type": "code",
   "execution_count": null,
   "metadata": {
    "collapsed": true
   },
   "outputs": [],
   "source": []
  }
 ],
 "metadata": {
  "kernelspec": {
   "display_name": "Python 2",
   "language": "python",
   "name": "python2"
  },
  "language_info": {
   "codemirror_mode": {
    "name": "ipython",
    "version": 2
   },
   "file_extension": ".py",
   "mimetype": "text/x-python",
   "name": "python",
   "nbconvert_exporter": "python",
   "pygments_lexer": "ipython2",
   "version": "2.7.10"
  }
 },
 "nbformat": 4,
 "nbformat_minor": 0
}
