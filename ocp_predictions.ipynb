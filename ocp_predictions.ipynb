{
 "cells": [
  {
   "cell_type": "code",
   "execution_count": 1,
   "metadata": {
    "collapsed": true
   },
   "outputs": [],
   "source": [
    "library(rbart)"
   ]
  },
  {
   "cell_type": "code",
   "execution_count": 2,
   "metadata": {
    "collapsed": true
   },
   "outputs": [],
   "source": [
    "soil_properties <- c(\"Acidified.Carbon\",  \"m3.Al\", \"m3.Ca\", \"m3.EC.S\",\"m3.Hp\", \"m3.Mg\", \"m3.Na\", \"m3.S\",\"pH\", \"Total.Nitrogen\",\n",
    "                     \"m3.B\",\"m3.Cu\", \"m3.Fe\",\"m3.K\", \"m3.Mn\",\"m3.P\",\"m3.Zn\")"
   ]
  },
  {
   "cell_type": "code",
   "execution_count": 3,
   "metadata": {
    "collapsed": true
   },
   "outputs": [],
   "source": [
    "machine_type <- \"alphakbr\"\n",
    "if(machine_type ==\"mir\"){\n",
    "   machine_type_conf= \"htsxt\"\n",
    "}\n",
    "\n",
    "if(machine_type ==\"mpa\"){\n",
    "   machine_type_conf= \"mpa\"\n",
    "}\n",
    "\n",
    "if(machine_type ==\"alphaznse\"){\n",
    "   machine_type_conf= \"alpha_znse\"\n",
    "}\n",
    "\n",
    "if(machine_type ==\"alphakbr\"){\n",
    "   machine_type_conf= \"alpha_kbr\"\n",
    "}\n"
   ]
  },
  {
   "cell_type": "code",
   "execution_count": 4,
   "metadata": {
    "collapsed": true
   },
   "outputs": [],
   "source": [
    "opus <- read.opus(\"scans\", conf=\"conf/opus.conf\", verbose=FALSE)"
   ]
  },
  {
   "cell_type": "code",
   "execution_count": 5,
   "metadata": {
    "collapsed": false
   },
   "outputs": [
    {
     "name": "stdout",
     "output_type": "stream",
     "text": [
      "[1] \"predicting Acidified.Carbon\"\n",
      "[1] \"INFO: machinetype argument obsolete and will be ignored. Extracting machinetype directly from file now.\"\n",
      "Running prediction from list of json files\n",
      "Predictions complete.\n",
      "Writing results to file: ocp_bart_prediction_Acidified.Carbon.csv\n",
      "[1] \"predicting m3.Al\"\n",
      "[1] \"INFO: machinetype argument obsolete and will be ignored. Extracting machinetype directly from file now.\"\n",
      "Running prediction from list of json files\n",
      "Predictions complete.\n",
      "Writing results to file: ocp_bart_prediction_m3.Al.csv\n",
      "[1] \"predicting m3.Ca\"\n",
      "[1] \"INFO: machinetype argument obsolete and will be ignored. Extracting machinetype directly from file now.\"\n",
      "Running prediction from list of json files\n",
      "Predictions complete.\n",
      "Writing results to file: ocp_bart_prediction_m3.Ca.csv\n",
      "[1] \"predicting m3.EC.S\"\n",
      "[1] \"INFO: machinetype argument obsolete and will be ignored. Extracting machinetype directly from file now.\"\n",
      "Running prediction from list of json files\n",
      "Predictions complete.\n",
      "Writing results to file: ocp_bart_prediction_m3.EC.S.csv\n",
      "[1] \"predicting m3.Hp\"\n",
      "[1] \"INFO: machinetype argument obsolete and will be ignored. Extracting machinetype directly from file now.\"\n",
      "Running prediction from list of json files\n",
      "Predictions complete.\n",
      "Writing results to file: ocp_bart_prediction_m3.Hp.csv\n",
      "[1] \"predicting m3.Mg\"\n",
      "[1] \"INFO: machinetype argument obsolete and will be ignored. Extracting machinetype directly from file now.\"\n",
      "Running prediction from list of json files\n",
      "Predictions complete.\n",
      "Writing results to file: ocp_bart_prediction_m3.Mg.csv\n",
      "[1] \"predicting m3.Na\"\n",
      "[1] \"INFO: machinetype argument obsolete and will be ignored. Extracting machinetype directly from file now.\"\n",
      "Running prediction from list of json files\n",
      "Predictions complete.\n",
      "Writing results to file: ocp_bart_prediction_m3.Na.csv\n",
      "[1] \"predicting m3.S\"\n",
      "[1] \"INFO: machinetype argument obsolete and will be ignored. Extracting machinetype directly from file now.\"\n",
      "Running prediction from list of json files\n",
      "Predictions complete.\n",
      "Writing results to file: ocp_bart_prediction_m3.S.csv\n",
      "[1] \"predicting pH\"\n",
      "[1] \"INFO: machinetype argument obsolete and will be ignored. Extracting machinetype directly from file now.\"\n",
      "Running prediction from list of json files\n",
      "Predictions complete.\n",
      "Writing results to file: ocp_bart_prediction_pH.csv\n",
      "[1] \"predicting Total.Nitrogen\"\n",
      "[1] \"INFO: machinetype argument obsolete and will be ignored. Extracting machinetype directly from file now.\"\n",
      "Running prediction from list of json files\n",
      "Predictions complete.\n",
      "Writing results to file: ocp_bart_prediction_Total.Nitrogen.csv\n",
      "[1] \"predicting m3.B\"\n",
      "[1] \"INFO: machinetype argument obsolete and will be ignored. Extracting machinetype directly from file now.\"\n",
      "Running prediction from list of json files\n",
      "Predictions complete.\n",
      "Writing results to file: ocp_bart_prediction_m3.B.csv\n",
      "[1] \"predicting m3.Cu\"\n",
      "[1] \"INFO: machinetype argument obsolete and will be ignored. Extracting machinetype directly from file now.\"\n",
      "Running prediction from list of json files\n",
      "Predictions complete.\n",
      "Writing results to file: ocp_bart_prediction_m3.Cu.csv\n",
      "[1] \"predicting m3.Fe\"\n",
      "[1] \"INFO: machinetype argument obsolete and will be ignored. Extracting machinetype directly from file now.\"\n",
      "Running prediction from list of json files\n",
      "Predictions complete.\n",
      "Writing results to file: ocp_bart_prediction_m3.Fe.csv\n",
      "[1] \"predicting m3.K\"\n",
      "[1] \"INFO: machinetype argument obsolete and will be ignored. Extracting machinetype directly from file now.\"\n",
      "Running prediction from list of json files\n",
      "Predictions complete.\n",
      "Writing results to file: ocp_bart_prediction_m3.K.csv\n",
      "[1] \"predicting m3.Mn\"\n",
      "[1] \"INFO: machinetype argument obsolete and will be ignored. Extracting machinetype directly from file now.\"\n",
      "Running prediction from list of json files\n",
      "Predictions complete.\n",
      "Writing results to file: ocp_bart_prediction_m3.Mn.csv\n",
      "[1] \"predicting m3.P\"\n",
      "[1] \"INFO: machinetype argument obsolete and will be ignored. Extracting machinetype directly from file now.\"\n",
      "Running prediction from list of json files\n",
      "Predictions complete.\n",
      "Writing results to file: ocp_bart_prediction_m3.P.csv\n",
      "[1] \"predicting m3.Zn\"\n",
      "[1] \"INFO: machinetype argument obsolete and will be ignored. Extracting machinetype directly from file now.\"\n",
      "Running prediction from list of json files\n",
      "Predictions complete.\n",
      "Writing results to file: ocp_bart_prediction_m3.Zn.csv\n"
     ]
    }
   ],
   "source": [
    "for(soil_property in soil_properties){\n",
    "    print(paste(\"predicting\", soil_property))\n",
    "    MCMC_folder <- file.path(machine_type,  soil_property)\n",
    "    rgy_file <- file.path(MCMC_folder, \"rgy.txt\") \n",
    "    outfile_name =  paste(\"ocp_bart_prediction_\", soil_property, \".csv\", sep=\"\")\n",
    "    bart.est <- predict_func(outfile=outfile_name,  forestpath=file.path(MCMC_folder, \"MCMC*.json\"), rframe=opus, conffile=file.path(\"conf\",\"opus.conf\"), tiffilename=\"\", rangefile=rgy_file, transform=\"first_der\", machinetype = machine_type_conf, verbose=FALSE)\n",
    "}"
   ]
  },
  {
   "cell_type": "code",
   "execution_count": null,
   "metadata": {
    "collapsed": true
   },
   "outputs": [],
   "source": []
  }
 ],
 "metadata": {
  "kernelspec": {
   "display_name": "R",
   "language": "R",
   "name": "ir"
  },
  "language_info": {
   "codemirror_mode": "r",
   "file_extension": ".r",
   "mimetype": "text/x-r-source",
   "name": "R",
   "pygments_lexer": "r",
   "version": "3.2.2"
  }
 },
 "nbformat": 4,
 "nbformat_minor": 0
}
